{
 "cells": [
  {
   "cell_type": "markdown",
   "id": "2c6aac5c",
   "metadata": {},
   "source": [
    "Show the treatment of empty tanks"
   ]
  },
  {
   "cell_type": "code",
   "execution_count": 1,
   "id": "96d0b8dd",
   "metadata": {},
   "outputs": [
    {
     "name": "stdout",
     "output_type": "stream",
     "text": [
      "This is the format of your plot grid:\n",
      "[ (1,1) x1,y1 ]\n",
      "[ (2,1) x1,y2 ]\n",
      "\n"
     ]
    },
    {
     "ename": "KeyError",
     "evalue": "'xaxis2'",
     "output_type": "error",
     "traceback": [
      "\u001b[1;31m---------------------------------------------------------------------------\u001b[0m",
      "\u001b[1;31mKeyError\u001b[0m                                  Traceback (most recent call last)",
      "\u001b[1;32m~\\AppData\\Local\\Temp\\1\\ipykernel_32664\\2398152492.py\u001b[0m in \u001b[0;36m<module>\u001b[1;34m\u001b[0m\n\u001b[0;32m     98\u001b[0m \u001b[1;32mfrom\u001b[0m \u001b[0mfmpy\u001b[0m\u001b[1;33m.\u001b[0m\u001b[0mutil\u001b[0m \u001b[1;32mimport\u001b[0m \u001b[0mplot_result\u001b[0m  \u001b[1;31m# import the plot functionvfrom fmpy.util import plot_result  # import the plot function\u001b[0m\u001b[1;33m\u001b[0m\u001b[1;33m\u001b[0m\u001b[0m\n\u001b[0;32m     99\u001b[0m \u001b[0mresult\u001b[0m \u001b[1;33m=\u001b[0m \u001b[0msimulate_fmu\u001b[0m\u001b[1;33m(\u001b[0m\u001b[0mfilename\u001b[0m\u001b[1;33m,\u001b[0m \u001b[0mstart_values\u001b[0m\u001b[1;33m=\u001b[0m\u001b[0mstart_values\u001b[0m\u001b[1;33m,\u001b[0m \u001b[0moutput\u001b[0m\u001b[1;33m=\u001b[0m\u001b[0moutput\u001b[0m\u001b[1;33m,\u001b[0m \u001b[0mstop_time\u001b[0m\u001b[1;33m=\u001b[0m\u001b[1;36m500.0\u001b[0m\u001b[1;33m)\u001b[0m\u001b[1;33m\u001b[0m\u001b[1;33m\u001b[0m\u001b[0m\n\u001b[1;32m--> 100\u001b[1;33m \u001b[0mplot_result\u001b[0m\u001b[1;33m(\u001b[0m\u001b[0mresult\u001b[0m\u001b[1;33m)\u001b[0m\u001b[1;33m\u001b[0m\u001b[1;33m\u001b[0m\u001b[0m\n\u001b[0m",
      "\u001b[1;32m~\\AppData\\Roaming\\Python\\Python38\\site-packages\\fmpy\\util.py\u001b[0m in \u001b[0;36mplot_result\u001b[1;34m(result, reference, names, filename, window_title, events, markers)\u001b[0m\n\u001b[0;32m    365\u001b[0m \u001b[1;33m\u001b[0m\u001b[0m\n\u001b[0;32m    366\u001b[0m     \u001b[1;32mif\u001b[0m \u001b[0mplot_library\u001b[0m \u001b[1;33m==\u001b[0m \u001b[1;34m'plotly'\u001b[0m\u001b[1;33m:\u001b[0m\u001b[1;33m\u001b[0m\u001b[1;33m\u001b[0m\u001b[0m\n\u001b[1;32m--> 367\u001b[1;33m         \u001b[0mfigure\u001b[0m \u001b[1;33m=\u001b[0m \u001b[0mcreate_plotly_figure\u001b[0m\u001b[1;33m(\u001b[0m\u001b[0mresult\u001b[0m\u001b[1;33m,\u001b[0m \u001b[0mnames\u001b[0m\u001b[1;33m=\u001b[0m\u001b[0mnames\u001b[0m\u001b[1;33m,\u001b[0m \u001b[0mevents\u001b[0m\u001b[1;33m=\u001b[0m\u001b[0mevents\u001b[0m\u001b[1;33m,\u001b[0m \u001b[0mmarkers\u001b[0m\u001b[1;33m=\u001b[0m\u001b[0mmarkers\u001b[0m\u001b[1;33m)\u001b[0m\u001b[1;33m\u001b[0m\u001b[1;33m\u001b[0m\u001b[0m\n\u001b[0m\u001b[0;32m    368\u001b[0m         \u001b[1;32mif\u001b[0m \u001b[0mfilename\u001b[0m \u001b[1;32mis\u001b[0m \u001b[1;32mNone\u001b[0m\u001b[1;33m:\u001b[0m\u001b[1;33m\u001b[0m\u001b[1;33m\u001b[0m\u001b[0m\n\u001b[0;32m    369\u001b[0m             \u001b[0mfigure\u001b[0m\u001b[1;33m.\u001b[0m\u001b[0mshow\u001b[0m\u001b[1;33m(\u001b[0m\u001b[1;33m)\u001b[0m\u001b[1;33m\u001b[0m\u001b[1;33m\u001b[0m\u001b[0m\n",
      "\u001b[1;32m~\\AppData\\Roaming\\Python\\Python38\\site-packages\\fmpy\\util.py\u001b[0m in \u001b[0;36mcreate_plotly_figure\u001b[1;34m(result, names, events, time_unit, markers)\u001b[0m\n\u001b[0;32m    337\u001b[0m \u001b[1;33m\u001b[0m\u001b[0m\n\u001b[0;32m    338\u001b[0m     \u001b[0mfig\u001b[0m\u001b[1;33m[\u001b[0m\u001b[1;34m'layout'\u001b[0m\u001b[1;33m]\u001b[0m\u001b[1;33m[\u001b[0m\u001b[1;34m'height'\u001b[0m\u001b[1;33m]\u001b[0m \u001b[1;33m=\u001b[0m \u001b[1;36m160\u001b[0m \u001b[1;33m*\u001b[0m \u001b[0mlen\u001b[0m\u001b[1;33m(\u001b[0m\u001b[0mnames\u001b[0m\u001b[1;33m)\u001b[0m \u001b[1;33m+\u001b[0m \u001b[1;36m30\u001b[0m \u001b[1;33m*\u001b[0m \u001b[0mmax\u001b[0m\u001b[1;33m(\u001b[0m\u001b[1;36m0\u001b[0m\u001b[1;33m,\u001b[0m \u001b[1;36m5\u001b[0m \u001b[1;33m-\u001b[0m \u001b[0mlen\u001b[0m\u001b[1;33m(\u001b[0m\u001b[0mnames\u001b[0m\u001b[1;33m)\u001b[0m\u001b[1;33m)\u001b[0m\u001b[1;33m\u001b[0m\u001b[1;33m\u001b[0m\u001b[0m\n\u001b[1;32m--> 339\u001b[1;33m     \u001b[0mfig\u001b[0m\u001b[1;33m[\u001b[0m\u001b[1;34m'layout'\u001b[0m\u001b[1;33m]\u001b[0m\u001b[1;33m[\u001b[0m\u001b[1;34mf'xaxis{len(names)}'\u001b[0m\u001b[1;33m]\u001b[0m\u001b[1;33m.\u001b[0m\u001b[0mupdate\u001b[0m\u001b[1;33m(\u001b[0m\u001b[0mtitle\u001b[0m\u001b[1;33m=\u001b[0m\u001b[1;34mf'time [{time_unit}]'\u001b[0m\u001b[1;33m)\u001b[0m\u001b[1;33m\u001b[0m\u001b[1;33m\u001b[0m\u001b[0m\n\u001b[0m\u001b[0;32m    340\u001b[0m \u001b[1;33m\u001b[0m\u001b[0m\n\u001b[0;32m    341\u001b[0m     axes_attrs = dict(showgrid=True, gridwidth=1, ticklen=0, gridcolor='LightGrey', linecolor='black', showline=True,\n",
      "\u001b[1;32m~\\Miniconda3\\lib\\site-packages\\plotly\\basedatatypes.py\u001b[0m in \u001b[0;36m__getitem__\u001b[1;34m(self, prop)\u001b[0m\n\u001b[0;32m   3662\u001b[0m         \"\"\"\n\u001b[0;32m   3663\u001b[0m         \u001b[0mprop\u001b[0m \u001b[1;33m=\u001b[0m \u001b[0mself\u001b[0m\u001b[1;33m.\u001b[0m\u001b[0m_strip_subplot_suffix_of_1\u001b[0m\u001b[1;33m(\u001b[0m\u001b[0mprop\u001b[0m\u001b[1;33m)\u001b[0m\u001b[1;33m\u001b[0m\u001b[1;33m\u001b[0m\u001b[0m\n\u001b[1;32m-> 3664\u001b[1;33m         \u001b[1;32mreturn\u001b[0m \u001b[0msuper\u001b[0m\u001b[1;33m(\u001b[0m\u001b[0mBaseLayoutHierarchyType\u001b[0m\u001b[1;33m,\u001b[0m \u001b[0mself\u001b[0m\u001b[1;33m)\u001b[0m\u001b[1;33m.\u001b[0m\u001b[0m__getitem__\u001b[0m\u001b[1;33m(\u001b[0m\u001b[0mprop\u001b[0m\u001b[1;33m)\u001b[0m\u001b[1;33m\u001b[0m\u001b[1;33m\u001b[0m\u001b[0m\n\u001b[0m\u001b[0;32m   3665\u001b[0m \u001b[1;33m\u001b[0m\u001b[0m\n\u001b[0;32m   3666\u001b[0m     \u001b[1;32mdef\u001b[0m \u001b[0m__contains__\u001b[0m\u001b[1;33m(\u001b[0m\u001b[0mself\u001b[0m\u001b[1;33m,\u001b[0m \u001b[0mprop\u001b[0m\u001b[1;33m)\u001b[0m\u001b[1;33m:\u001b[0m\u001b[1;33m\u001b[0m\u001b[1;33m\u001b[0m\u001b[0m\n",
      "\u001b[1;32m~\\Miniconda3\\lib\\site-packages\\plotly\\basedatatypes.py\u001b[0m in \u001b[0;36m__getitem__\u001b[1;34m(self, prop)\u001b[0m\n\u001b[0;32m   2656\u001b[0m             \u001b[0mprop\u001b[0m \u001b[1;33m=\u001b[0m \u001b[0mprop\u001b[0m\u001b[1;33m[\u001b[0m\u001b[1;36m0\u001b[0m\u001b[1;33m]\u001b[0m\u001b[1;33m\u001b[0m\u001b[1;33m\u001b[0m\u001b[0m\n\u001b[0;32m   2657\u001b[0m             \u001b[1;32mif\u001b[0m \u001b[0mprop\u001b[0m \u001b[1;32mnot\u001b[0m \u001b[1;32min\u001b[0m \u001b[0mself\u001b[0m\u001b[1;33m.\u001b[0m\u001b[0m_validators\u001b[0m\u001b[1;33m:\u001b[0m\u001b[1;33m\u001b[0m\u001b[1;33m\u001b[0m\u001b[0m\n\u001b[1;32m-> 2658\u001b[1;33m                 \u001b[1;32mraise\u001b[0m \u001b[0mKeyError\u001b[0m\u001b[1;33m(\u001b[0m\u001b[0mprop\u001b[0m\u001b[1;33m)\u001b[0m\u001b[1;33m\u001b[0m\u001b[1;33m\u001b[0m\u001b[0m\n\u001b[0m\u001b[0;32m   2659\u001b[0m \u001b[1;33m\u001b[0m\u001b[0m\n\u001b[0;32m   2660\u001b[0m             \u001b[0mvalidator\u001b[0m \u001b[1;33m=\u001b[0m \u001b[0mself\u001b[0m\u001b[1;33m.\u001b[0m\u001b[0m_validators\u001b[0m\u001b[1;33m[\u001b[0m\u001b[0mprop\u001b[0m\u001b[1;33m]\u001b[0m\u001b[1;33m\u001b[0m\u001b[1;33m\u001b[0m\u001b[0m\n",
      "\u001b[1;31mKeyError\u001b[0m: 'xaxis2'"
     ]
    }
   ],
   "source": [
    "import fmpy\n",
    "from fmpy import *\n",
    "\n",
    "\n",
    "filename = r'C:/Users/wxo/Documents/Dymola/TRANSFORM-Library-master/TRANSFORM/twotTankscontrolOutletFMU.fmu'\n",
    "\n",
    "start_values = {\n",
    "    # variable                        start   unit             description\n",
    "    'tank2_setpoint':                (5.0, 'm'),             # Setpoint for tank2\n",
    "    'tank1_setpoint':                (5.0, 'm'),             # Setpoint for tank1\n",
    "    'system.p_ambient':             (101325, 'Pa'),          # Default ambient pressure\n",
    "    'system.T_ambient':             (293.15, 'K'),           # Default ambient temperature\n",
    "    'system.g':                    (9.80665, 'm/s2'),        # Constant gravity acceleration\n",
    "    'system.m_flow_start':               (0, 'kg/s'),        # Default start value for mass flow rates\n",
    "    'system.eps_m_flow':            (0.0001, '1'),           # Regularization of zero flow for |m_flow| < eps_m_flow*m_flow_nominal\n",
    "    'system.dp_small':                   (1, 'Pa'),          # Default small pressure drop for regularization of laminar and zero flow\n",
    "    'system.m_flow_small':            (0.01, 'kg/s'),        # Default small mass flow rate for regularization of laminar and zero flow\n",
    "    'tank1.height':                     (10, 'm'),           # Height of tank\n",
    "    'tank1.crossArea':                 (0.1, 'm2'),          # Area of tank\n",
    "    'tank1.level_start':                 (5, 'm'),           # Start value of tank level\n",
    "    'tank1.X_start[1]':                (1.0, 'kg/kg'),       # Start value of mass fractions m_i/m\n",
    "    'tank1.portsData[1].diameter':     (0.1, 'm'),           # Inner (hydraulic) diameter of inlet/outlet port\n",
    "    'tank1.portsData[1].height':       (0.0, 'm'),           # Height over the bottom of the vessel\n",
    "    'tank1.portsData[1].zeta_out':      0.5,                 # Hydraulic resistance out of vessel, default 0.5 for small diameter mounted flush with the wall\n",
    "    'tank1.portsData[1].zeta_in':      1.04,                 # Hydraulic resistance into vessel, default 1.04 for small diameter mounted flush with the wall\n",
    "    'tank1.portsData[2].diameter':     (0.1, 'm'),           # Inner (hydraulic) diameter of inlet/outlet port\n",
    "    'tank1.portsData[2].height':       (0.0, 'm'),           # Height over the bottom of the vessel\n",
    "    'tank1.portsData[2].zeta_out':      0.5,                 # Hydraulic resistance out of vessel, default 0.5 for small diameter mounted flush with the wall\n",
    "    'tank1.portsData[2].zeta_in':      1.04,                 # Hydraulic resistance into vessel, default 1.04 for small diameter mounted flush with the wall\n",
    "    'tank1.portsData[3].diameter':     (0.1, 'm'),           # Inner (hydraulic) diameter of inlet/outlet port\n",
    "    'tank1.portsData[3].height':       (0.0, 'm'),           # Height over the bottom of the vessel\n",
    "    'tank1.portsData[3].zeta_out':      0.5,                 # Hydraulic resistance out of vessel, default 0.5 for small diameter mounted flush with the wall\n",
    "    'tank1.portsData[3].zeta_in':      1.04,                 # Hydraulic resistance into vessel, default 1.04 for small diameter mounted flush with the wall\n",
    "    'tank2.height':                     (10, 'm'),           # Height of tank\n",
    "    'tank2.crossArea':                 (0.1, 'm2'),          # Area of tank\n",
    "    'tank2.level_start':                 (5, 'm'),           # Start value of tank level\n",
    "    'tank2.X_start[1]':                (1.0, 'kg/kg'),       # Start value of mass fractions m_i/m\n",
    "    'tank2.portsData[1].diameter':     (0.1, 'm'),           # Inner (hydraulic) diameter of inlet/outlet port\n",
    "    'tank2.portsData[1].height':       (0.0, 'm'),           # Height over the bottom of the vessel\n",
    "    'tank2.portsData[1].zeta_out':      0.5,                 # Hydraulic resistance out of vessel, default 0.5 for small diameter mounted flush with the wall\n",
    "    'tank2.portsData[1].zeta_in':      1.04,                 # Hydraulic resistance into vessel, default 1.04 for small diameter mounted flush with the wall\n",
    "    'tank2.portsData[2].diameter':     (0.1, 'm'),           # Inner (hydraulic) diameter of inlet/outlet port\n",
    "    'tank2.portsData[2].height':       (0.0, 'm'),           # Height over the bottom of the vessel\n",
    "    'tank2.portsData[2].zeta_out':      0.5,                 # Hydraulic resistance out of vessel, default 0.5 for small diameter mounted flush with the wall\n",
    "    'tank2.portsData[2].zeta_in':      1.04,                 # Hydraulic resistance into vessel, default 1.04 for small diameter mounted flush with the wall\n",
    "    'tank2.portsData[3].diameter':     (0.1, 'm'),           # Inner (hydraulic) diameter of inlet/outlet port\n",
    "    'tank2.portsData[3].height':       (0.0, 'm'),           # Height over the bottom of the vessel\n",
    "    'tank2.portsData[3].zeta_out':      0.5,                 # Hydraulic resistance out of vessel, default 0.5 for small diameter mounted flush with the wall\n",
    "    'tank2.portsData[3].zeta_in':      1.04,                 # Hydraulic resistance into vessel, default 1.04 for small diameter mounted flush with the wall\n",
    "    'R3.a':                          (0.001, '(Pa.s2)/m6'),  # Coefficient for quadratic term\n",
    "    'R3.b':                          (0.001, '(Pa.s)/m3'),   # Coefficient for linear term\n",
    "    'R1.a':                              (1, '(Pa.s2)/m6'),  # Coefficient for quadratic term\n",
    "    'R1.b':                              (1, '(Pa.s)/m3'),   # Coefficient for linear term\n",
    "    'y1_outlet.p':                  (101325, 'Pa'),          # Fixed value of pressure\n",
    "    'y1_outlet.T':                  (293.15, 'K'),           # Fixed value of temperature\n",
    "    'y1_outlet.X[1]':                  (1.0, 'kg/kg'),       # Fixed value of composition\n",
    "    'R2.a':                              (1, '(Pa.s2)/m6'),  # Coefficient for quadratic term\n",
    "    'R2.b':                              (1, '(Pa.s)/m3'),   # Coefficient for linear term\n",
    "    'y2_outlet.p':                  (101325, 'Pa'),          # Fixed value of pressure\n",
    "    'y2_outlet.T':                  (293.15, 'K'),           # Fixed value of temperature\n",
    "    'y2_outlet.X[1]':                  (1.0, 'kg/kg'),       # Fixed value of composition\n",
    "    'x1_inlet.m_flow':                   (0, 'kg/s'),        # Fixed mass flow rate going out of the fluid port\n",
    "    'x1_inlet.T':                   (293.15, 'K'),           # Fixed value of temperature\n",
    "    'x1_inlet.X[1]':                   (1.0, 'kg/kg'),       # Fixed value of composition\n",
    "    'x2_inlet.m_flow':                   (0, 'kg/s'),        # Fixed mass flow rate going out of the fluid port\n",
    "    'x2_inlet.T':                   (293.15, 'K'),           # Fixed value of temperature\n",
    "    'x2_inlet.X[1]':                   (1.0, 'kg/kg'),       # Fixed value of composition\n",
    "    'pid_Tank1.k':                       (1, '1'),           # Gain\n",
    "    'pid_Tank1.Ti':                    (0.1, 's'),           # Time Constant of Integrator\n",
    "    'pid_Tank1.Td':                      (0, 's'),           # Time Constant of Derivative block\n",
    "    'pid_Tank1.Nd':                      10,                 # The higher Nd, the more ideal the derivative block\n",
    "    'pid_Tank1.xi_start':                (0, 'm.s'),         # Initial or guess value for integrator output (= integrator state)\n",
    "    'pid_Tank1.xd_start':                (0, 'm'),           # Initial or guess value for state of derivative block\n",
    "    'pid_Tank1.y_start':                 (0, 'kg/s'),        # Initial value of output\n",
    "    'pid_Tank1.P.k':                     (1, '1'),           # Gain value multiplied with input signal\n",
    "    'pid_Tank1.D.y_start':               (0, 'm/s'),         # Initial value of output (= state)\n",
    "    'pid_Tank1.Add.k1':                   1,                 # Gain of input signal 1\n",
    "    'pid_Tank1.Add.k2':                   1,                 # Gain of input signal 2\n",
    "    'pid_Tank1.Add.k3':                   1,                 # Gain of input signal 3\n",
    "    'pid_Tank2.k':                       (1, '1'),           # Gain\n",
    "    'pid_Tank2.Ti':                    (0.1, 's'),           # Time Constant of Integrator\n",
    "    'pid_Tank2.Td':                      (0, 's'),           # Time Constant of Derivative block\n",
    "    'pid_Tank2.Nd':                      10,                 # The higher Nd, the more ideal the derivative block\n",
    "    'pid_Tank2.xi_start':                (0, 'm.s'),         # Initial or guess value for integrator output (= integrator state)\n",
    "    'pid_Tank2.xd_start':                (0, 'm'),           # Initial or guess value for state of derivative block\n",
    "    'pid_Tank2.y_start':                 (0, 'kg/s'),        # Initial value of output\n",
    "    'pid_Tank2.P.k':                     (1, '1'),           # Gain value multiplied with input signal\n",
    "    'pid_Tank2.D.y_start':               (0, 'm/s'),         # Initial value of output (= state)\n",
    "    'pid_Tank2.Add.k1':                   1,                 # Gain of input signal 1\n",
    "    'pid_Tank2.Add.k2':                   1,                 # Gain of input signal 2\n",
    "    'pid_Tank2.Add.k3':                   1,                 # Gain of input signal 3\n",
    "}\n",
    "\n",
    "output = [\n",
    "    'tank1_level_out',\n",
    "    'tank2_level_out',\n",
    "]\n",
    "from fmpy.util import plot_result  # import the plot functionvfrom fmpy.util import plot_result  # import the plot function\n",
    "result = simulate_fmu(filename, start_values=start_values, output=output, stop_time=500.0)\n",
    "plot_result(result)"
   ]
  },
  {
   "cell_type": "code",
   "execution_count": 2,
   "id": "bf37a239",
   "metadata": {
    "scrolled": true
   },
   "outputs": [
    {
     "ename": "TypeError",
     "evalue": "bad operand type for unary -: '_Helper'",
     "output_type": "error",
     "traceback": [
      "\u001b[1;31m---------------------------------------------------------------------------\u001b[0m",
      "\u001b[1;31mTypeError\u001b[0m                                 Traceback (most recent call last)",
      "\u001b[1;32m~\\AppData\\Local\\Temp\\1\\ipykernel_32664\\2465013564.py\u001b[0m in \u001b[0;36m<module>\u001b[1;34m\u001b[0m\n\u001b[1;32m----> 1\u001b[1;33m \u001b[0mfmpy\u001b[0m \u001b[1;33m-\u001b[0m\u001b[1;33m-\u001b[0m\u001b[0mhelp\u001b[0m\u001b[1;33m\u001b[0m\u001b[1;33m\u001b[0m\u001b[0m\n\u001b[0m",
      "\u001b[1;31mTypeError\u001b[0m: bad operand type for unary -: '_Helper'"
     ]
    }
   ],
   "source": [
    "fmpy --help"
   ]
  },
  {
   "cell_type": "code",
   "execution_count": null,
   "id": "c3bb9081",
   "metadata": {},
   "outputs": [],
   "source": []
  }
 ],
 "metadata": {
  "kernelspec": {
   "display_name": "Python 3 (ipykernel)",
   "language": "python",
   "name": "python3"
  },
  "language_info": {
   "codemirror_mode": {
    "name": "ipython",
    "version": 3
   },
   "file_extension": ".py",
   "mimetype": "text/x-python",
   "name": "python",
   "nbconvert_exporter": "python",
   "pygments_lexer": "ipython3",
   "version": "3.8.16"
  }
 },
 "nbformat": 4,
 "nbformat_minor": 5
}
